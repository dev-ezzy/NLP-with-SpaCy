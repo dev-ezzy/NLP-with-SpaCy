{
 "cells": [
  {
   "cell_type": "markdown",
   "metadata": {},
   "source": [
    "# NLP with SpaCy"
   ]
  },
  {
   "cell_type": "code",
   "execution_count": 8,
   "metadata": {},
   "outputs": [
    {
     "name": "stdout",
     "output_type": "stream",
     "text": [
      "Token List: ['My', 'name', 'is', 'Ezra', 'and', 'I', 'am', 'a', 'Data', 'scientist']\n"
     ]
    }
   ],
   "source": [
    "#importing language from spacy\n",
    "from spacy.lang.en import English\n",
    "\n",
    "#creating english object\n",
    "nlp = English()\n",
    "\n",
    "#text\n",
    "doc = nlp(\"My name is Ezra and I am a Data scientist\")\n",
    "\n",
    "#accessing tokens\n",
    "token_list= [token.text for token in doc]\n",
    "print(f\"Token List: {token_list}\")"
   ]
  },
  {
   "cell_type": "code",
   "execution_count": 9,
   "metadata": {},
   "outputs": [],
   "source": [
    "#using germany language\n",
    "from spacy.lang.de import German\n",
    "\n",
    "#German object\n",
    "nlp = German()"
   ]
  },
  {
   "cell_type": "code",
   "execution_count": null,
   "metadata": {},
   "outputs": [],
   "source": []
  }
 ],
 "metadata": {
  "kernelspec": {
   "display_name": "ezra",
   "language": "python",
   "name": "python3"
  },
  "language_info": {
   "codemirror_mode": {
    "name": "ipython",
    "version": 3
   },
   "file_extension": ".py",
   "mimetype": "text/x-python",
   "name": "python",
   "nbconvert_exporter": "python",
   "pygments_lexer": "ipython3",
   "version": "3.11.5"
  }
 },
 "nbformat": 4,
 "nbformat_minor": 2
}
